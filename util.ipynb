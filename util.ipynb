{
 "cells": [
  {
   "cell_type": "code",
   "execution_count": 1,
   "metadata": {},
   "outputs": [],
   "source": [
    "import autograd.numpy as np\n",
    "from autograd.numpy import sin, cos, exp"
   ]
  },
  {
   "cell_type": "code",
   "execution_count": 2,
   "metadata": {},
   "outputs": [],
   "source": [
    "def gaussian_trig(m, v, i):\n",
    "    d, I = len(m), len(i)\n",
    "    mi = m[i]\n",
    "    vi = v[np.ix_(i, i)]\n",
    "    vii = np.diag(vi)\n",
    "    \n",
    "    M = np.vstack([exp(-vii/2) * sin(mi),\n",
    "                   exp(-vii/2) * cos(mi)])\n",
    "    M = M.flatten(order='F')\n",
    "    \n",
    "    mi = mi.reshape(I, 1)\n",
    "    vii = vii.reshape(I, 1)\n",
    "    lq = -(vii + vii.T)/2\n",
    "    q = exp(lq)\n",
    "    \n",
    "    U1 = (exp(lq + vi) - q) * sin(mi - mi.T)\n",
    "    U2 = (exp(lq - vi) - q) * sin(mi + mi.T)\n",
    "    U3 = (exp(lq + vi) - q) * cos(mi - mi.T)\n",
    "    U4 = (exp(lq - vi) - q) * cos(mi + mi.T)\n",
    "    \n",
    "    V = np.vstack([np.hstack([U3 - U4, U1 + U2]),\n",
    "                  np.hstack([(U1 + U2).T, U3 + U4])]) / 2\n",
    "    V = np.vstack([np.hstack([V[::2, ::2], V[::2, 1::2]]),\n",
    "                  np.hstack([V[1::2, ::2], V[1::2, 1::2]])])\n",
    "    \n",
    "    C = np.hstack([np.diag(M[1::2]), -np.diag(M[::2])])\n",
    "    C = np.hstack([C[:, ::2], C[:, 1::2]])\n",
    "    T = np.zeros([d, I])\n",
    "    for k, l in enumerate(i): T[l, k] = 1\n",
    "    C = T @ C\n",
    "    \n",
    "    return M, V, C"
   ]
  },
  {
   "cell_type": "code",
   "execution_count": 3,
   "metadata": {},
   "outputs": [],
   "source": [
    "def gaussian_sin(m, v, i):\n",
    "    d, I = len(m), len(i)\n",
    "    mi = m[i]\n",
    "    vi = v[np.ix_(i, i)]\n",
    "    vii = np.diag(vi)\n",
    "    M = exp(-vii/2) * sin(mi)\n",
    "    \n",
    "    mi = mi.reshape(I, 1)\n",
    "    vii = vii.reshape(I, 1)\n",
    "    lq = -(vii + vii.T)/2\n",
    "    q = exp(lq)\n",
    "    V = ((exp(lq + vi) - q) * cos(mi - mi.T)\n",
    "         - (exp(lq - vi) - q) * cos(mi + mi.T)) / 2\n",
    "    \n",
    "    C = np.diag((exp(-vii/2) * cos(mi)).flatten())\n",
    "    T = np.zeros([d, I])\n",
    "    for k, l in enumerate(i): T[l, k] = 1\n",
    "    C = T @ C\n",
    "    \n",
    "    return M, V, C"
   ]
  },
  {
   "cell_type": "code",
   "execution_count": null,
   "metadata": {},
   "outputs": [],
   "source": []
  }
 ],
 "metadata": {
  "kernelspec": {
   "display_name": "Python 3",
   "language": "python",
   "name": "python3"
  },
  "language_info": {
   "codemirror_mode": {
    "name": "ipython",
    "version": 3
   },
   "file_extension": ".py",
   "mimetype": "text/x-python",
   "name": "python",
   "nbconvert_exporter": "python",
   "pygments_lexer": "ipython3",
   "version": "3.5.2"
  }
 },
 "nbformat": 4,
 "nbformat_minor": 2
}
